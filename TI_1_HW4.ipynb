{
 "cells": [
  {
   "cell_type": "markdown",
   "metadata": {},
   "source": [
    "# Homework 3\n",
    "\n",
    "**Name:** Oscar Beltran Villegas\n",
    "\n",
    "**e-mail:** oscar.beltran7944@alumnos.udg.mx"
   ]
  },
  {
   "cell_type": "markdown",
   "metadata": {},
   "source": [
    "# MODULES"
   ]
  },
  {
   "cell_type": "code",
   "execution_count": 8,
   "metadata": {},
   "outputs": [],
   "source": [
    "import math\n",
    "import numpy as np"
   ]
  },
  {
   "cell_type": "markdown",
   "metadata": {},
   "source": [
    "# CLASSES"
   ]
  },
  {
   "cell_type": "code",
   "execution_count": 6,
   "metadata": {},
   "outputs": [],
   "source": [
    "################# http://www.pygame.org/wiki/2DVectorClass ##################\n",
    "class Vec2d(object):\n",
    "    \"\"\"2d vector class, supports vector and scalar operators,\n",
    "       and also provides a bunch of high level functions\n",
    "       \"\"\"\n",
    "    __slots__ = ['x', 'y']\n",
    "\n",
    "    def __init__(self, x_or_pair, y=None):\n",
    "        if y is None:\n",
    "            self.x = x_or_pair[0]\n",
    "            self.y = x_or_pair[1]\n",
    "        else:\n",
    "            self.x = x_or_pair\n",
    "            self.y = y\n",
    "\n",
    "    # Addition\n",
    "    def __add__(self, other):\n",
    "        if isinstance(other, Vec2d):\n",
    "            return Vec2d(self.x + other.x, self.y + other.y)\n",
    "        elif hasattr(other, \"__getitem__\"):\n",
    "            return Vec2d(self.x + other[0], self.y + other[1])\n",
    "        else:\n",
    "            return Vec2d(self.x + other, self.y + other)\n",
    "\n",
    "    # Subtraction\n",
    "    def __sub__(self, other):\n",
    "        if isinstance(other, Vec2d):\n",
    "            return Vec2d(self.x - other.x, self.y - other.y)\n",
    "        elif hasattr(other, \"__getitem__\"):\n",
    "            return Vec2d(self.x - other[0], self.y - other[1])\n",
    "        else:\n",
    "            return Vec2d(self.x - other, self.y - other)\n",
    "\n",
    "    # Vector length\n",
    "    def get_length(self):\n",
    "        return math.sqrt(self.x**2 + self.y**2)\n",
    "\n",
    "    # Rotate vector\n",
    "    def rotated(self, angle):\n",
    "        cos_theta = math.cos(angle)\n",
    "        sin_theta = math.sin(angle)\n",
    "        x = self.x * cos_theta - self.y * sin_theta\n",
    "        y = self.x * sin_theta + self.y * cos_theta\n",
    "        return Vec2d(x, y)"
   ]
  },
  {
   "cell_type": "markdown",
   "metadata": {},
   "source": [
    "# FUNCTIONS"
   ]
  },
  {
   "cell_type": "code",
   "execution_count": null,
   "metadata": {},
   "outputs": [],
   "source": [
    "def brownian_motion_3d(num_steps, speed, start_pos=(0, 0, 0)):\n",
    "    \"\"\"\n",
    "    Function to simulate 3D Brownian motion\n",
    "    Arguments:\n",
    "        num_steps: Number of steps to simulate\n",
    "        speed: Speed of the particle\n",
    "        start_pos: Initial position of the particle\n",
    "    Returns:\n",
    "        trajectory: 3D trajectory of the particle\n",
    "    \"\"\"\n",
    "    trajectory = np.zeros((num_steps + 1, 3)) # initialize the trajectory\n",
    "    trajectory[0] = start_pos # set the initial position\n",
    "\n",
    "    velocity = Vec2d(speed, 0) # initialize the velocity vector\n",
    "    \n",
    "    for i in range(1, num_steps + 1): # simulate the motion\n",
    "\n",
    "        # generate a random angle to turn the velocity vector\n",
    "        turn_angle = np.random.uniform(low=-np.pi, high=np.pi)\n",
    "        velocity = velocity.rotated(turn_angle)\n",
    "        \n",
    "        # update the position\n",
    "        trajectory[i] = trajectory[i-1] + np.array([velocity.x, velocity.y, velocity.get_length()])\n",
    "    \n",
    "    return trajectory"
   ]
  }
 ],
 "metadata": {
  "kernelspec": {
   "display_name": "Python 3",
   "language": "python",
   "name": "python3"
  },
  "language_info": {
   "codemirror_mode": {
    "name": "ipython",
    "version": 3
   },
   "file_extension": ".py",
   "mimetype": "text/x-python",
   "name": "python",
   "nbconvert_exporter": "python",
   "pygments_lexer": "ipython3",
   "version": "3.10.6"
  }
 },
 "nbformat": 4,
 "nbformat_minor": 2
}
